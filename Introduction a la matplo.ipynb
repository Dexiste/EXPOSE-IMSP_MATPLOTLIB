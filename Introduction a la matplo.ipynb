{
 "cells": [
  {
   "cell_type": "markdown",
   "id": "cb7736cc",
   "metadata": {},
   "source": [
    "\n",
    "# <center> <b> <span style=\"color:orange;font-style:italic;\"> Présentation Exposé </span> </b></center>\n",
    "\n",
    "## <center> <b> <span style=\"color:green;font-family: 'Comic Sans Ms';\">Introduction à la Matplotlib</span> </b></center>\n",
    "\n",
    "\n",
    "****\n",
    "\n",
    "## <center> <b> <span style=\"color:blue;\">Language Python </span> </b></center>\n",
    "\n",
    "\n",
    "#### <right> <b> <span style=\"color:black;\"> <em>Réalisé par: Dexiste HOUNSA </em></span> </b></right>\n",
    "****\n",
    "\n",
    "# <left> <b> <span style=\"color:brown;font-style:italic\"> Plan </span> </b></left>\n",
    "\n",
    "\n",
    "* [1- Le module matplotlib](#chapter1)\n",
    "    * [1.1- matplotlib.pyplot , le module qu’il nous faut](#section_1_1)\n",
    "    * [1.2- Installation sous Linux](sSection_1_2)\n",
    "    * [1.3- Installation sous Windows](#section_1_3)\n",
    "* [2- Les premiers tracés](#chapter2)\n",
    "    * [2.1- Ouvrir une fenêtre](#section_2_1)\n",
    "    * [2.2- Tracer des lignes brisées](#section_2_2)\n",
    "    * [2.3- Tracer une figure](#section_2_3)\n",
    "    * [2.4- Paramètres supplémentaires](#section_2_4)\n",
    "        * [2.4.1- Color](#section_2_4_1)\n",
    "        * [2.4.2- Le style de ligne](#section_2_4_2)\n",
    "        * [2.4.3- La grille](#section_2_4_3)\n",
    "        * [2.4.4- Les axes](#section_2_4_4)\n",
    "        * [2.4.5- Une question d’échelle](#section_2_4_5)\n",
    "* [3- Tracer des fonctions](#chapter3)\n",
    "    * [3.1- La méthode secrète](#section_3_1)\n",
    "    * [2.2- Les fonctions discontinues ou à valeurs interdites](#section_3_2)\n",
    "* [4- Notre fonction](#chapter4)\n",
    "    * [4.1- La fonction zplot minimale](#section_4_1)\n",
    "    * [4.2- Personnaliser zplot](#section_4_2)"
   ]
  },
  {
   "cell_type": "markdown",
   "id": "82aff188",
   "metadata": {},
   "source": [
    "\n",
    "\n",
    "\n",
    "\n",
    "\n",
    "\n",
    "\n",
    "\n",
    "\n",
    "\n",
    "\n",
    "\n",
    "\n",
    "\n",
    "\n",
    "\n"
   ]
  },
  {
   "cell_type": "markdown",
   "id": "bcd76540",
   "metadata": {},
   "source": [
    "\n"
   ]
  },
  {
   "cell_type": "markdown",
   "id": "15784bce",
   "metadata": {},
   "source": [
    "# <left> <b> <span style=\"color:chocolate;font-style:italic;font-family:'Bookman';\"> 1- Le Module Matplotlib <a class=\"ch\" id=\"chapter1\" ></a> </span> </b></left>"
   ]
  },
  {
   "cell_type": "markdown",
   "id": "3085de09",
   "metadata": {},
   "source": [
    "## <left> <b> <span style=\"color:#cd7fe2;font-style:italic;font-family:'roboto';\"> 1.1- matplotlib.pyplot, le module qu’il nous faut<a class=\"sec\" id=\"section_1_1\"></a> </span> </b></left>\n",
    "\n"
   ]
  },
  {
   "cell_type": "markdown",
   "id": "f89508d2",
   "metadata": {},
   "source": [
    "<span style=\"font-family:'Times new Roman';\">\n",
    "    <p>Commençons par le début, présentons matplotlib . Il s’agit sûrement de l’une des bibliothèques\n",
    "python les plus utilisées pour représenter des graphiques en 2D. Elle permet de produire une\n",
    "grande variété de graphiques et ils sont de grande qualité.</p>\n",
    "<p>Le module pyplot de matplotlib est l’un de ses principaux modules. Il regroupe un grand\n",
    "nombre de fonctions qui servent à créer des graphiques et les personnaliser (travailler sur les\n",
    "axes, le type de graphique, sa forme et même rajouter du texte). Avec lui, nous avons déjà de\n",
    "quoi faire de belles choses.</p>\n",
    "<p style=\"font-style:italic;font-weight: bold;\"> Le fonctionnement de matplotlib est très semblable à celui de matlab. Le fonctionnement, et même les noms des fonctions par exemple, sont quasiment toujours les mêmes.\n",
    "    </p>\n",
    "    <p>Il est maintenant temps de l'installer.</p>\n",
    "    \n",
    "</span>"
   ]
  },
  {
   "cell_type": "markdown",
   "id": "99a79ad8",
   "metadata": {},
   "source": [
    "## <left> <b> <span style=\"color:#cd7fe2;font-style:italic;font-family:'roboto';\"> 1.2- Installation sous Linux<a class=\"sec\" id=\"section_1_2\"></a> </span> </b></left>\n"
   ]
  },
  {
   "cell_type": "markdown",
   "id": "06b62ed9",
   "metadata": {},
   "source": [
    "\n",
    "<span style=\"font-family:'Times new Roman';\">\n",
    "<p>C’est sans doute sous Linux que matplotlib est le plus simple à installer. Il suffit d’utiliser\n",
    "son gestionnaire de paquets (en ligne de commande ou en graphique). Voici quelques exemples\n",
    "de commande d’installation.</p>    \n",
    "<p style=\"font-style:italic;\">\n",
    "    <em style=\"font-weight: bold;\">Sous Arch Linux</em> <br>\n",
    "sudo pacman -S python-matplotlib  <br>\n",
    "    <em style=\"font-weight: bold;\">Sous Ubuntu</em> <br>\n",
    "sudo apt-get install python-matplotlib    \n",
    "</p>\n",
    "<p>Utiliser le gestionnaire de paquets est la méthode la plus simple mais nous pouvons également\n",
    "utiliser le programme pip (qui est souvent installé par défaut) en entrant cette commande dans\n",
    "un terminal. Nous commençons par le mettre à jour avec la première ligne, avant d’installer\n",
    "matplotlib avec la seconde.</p>\n",
    "<p style=\"font-style:italic;\">\n",
    " python3 -m pip install --user -U --upgrade pip <br>\n",
    "  python3 -m pip install --user -U matplotlib  \n",
    "   \n",
    "</p>\n",
    "    <p>Il se chargera d’installer toutes les dépendances nécessaires au bon fonctionnement de matplot\n",
    "lib .</p>\n",
    "</span>\n",
    "  "
   ]
  },
  {
   "cell_type": "markdown",
   "id": "a3502cde",
   "metadata": {},
   "source": [
    "## <left> <b> <span style=\"color:#cd7fe2;font-style:italic;font-family:'roboto';\"> 1.3- Installation sous windows<a class=\"sec\" id=\"section_1_3\"></a> </span> </b></left>\n"
   ]
  },
  {
   "cell_type": "markdown",
   "id": "07c2b4f7",
   "metadata": {},
   "source": [
    "<span style=\"font-family:'Times new Roman';\">\n",
    "   <p>Sous Windows, nous pouvons également utiliser pip pour installer matplotlib . Il nous suffit\n",
    "donc d’ouvrir un terminal et d’entrer ces deux commandes. La première commande permet de\n",
    "mettre à jour pip et la seconde installe matplotlib .</p>\n",
    "<p style=\"font-style:italic;\">\n",
    "py -m pip install --user -U --upgrade pip <br>\n",
    "py -m pip install --user -U matplotlib\n",
    "   \n",
    "</p> \n",
    "</span>"
   ]
  },
  {
   "cell_type": "markdown",
   "id": "524e6344",
   "metadata": {},
   "source": [
    "# <left> <b> <span style=\"color:chocolate;font-style:italic;font-family:'Bookman';\">2- Les premiers tracés  <a class=\"ch\" id=\"chapter2\" ></a> </span> </b></left>"
   ]
  },
  {
   "cell_type": "markdown",
   "id": "4708ed1c",
   "metadata": {},
   "source": [
    "## <left> <b> <span style=\"color:#cd7fe2;font-style:italic;font-family:'roboto';\"> 2.1- Ouvrir une fenêtre<a class=\"sec\" id=\"section_2_1\"></a> </span> </b></left>\n"
   ]
  },
  {
   "cell_type": "markdown",
   "id": "55f9b981",
   "metadata": {},
   "source": [
    "<span style=\"font-family:'Times new Roman';\">\n",
    "   <p>Tout d’abord, importons le module pyplot . La plupart des gens ont l’habitude de l’importer\n",
    "en tant que plt et nous ne dérogerons pas à la règle. On place donc cette ligne au début de\n",
    "notre fichier.</p>\n",
    "</span>\n",
    "\n",
    "```python\n",
    "import matplotlib.pyplot as plt\n",
    "\n",
    "```\n",
    "<span style=\"font-family:'Times new Roman';\">\n",
    "<p>La première commande que nous allons voir dans ce module s’appelle show . Elle permet tout\n",
    "simplement d’afficher un graphique dans une fenêtre. Par défaut, celui-ci est vide. Nous devrons\n",
    "utiliser d’autres commandes pour définir ce que nous voulons afficher.</p>\n",
    "<p>La seconde commande, close sert tout simplement à fermer la fenêtre qui s’est ouverte avec show .\n",
    "Lorsque nous appuyons sur la croix de notre fenêtre, celle-ci se ferme également. Néanmoins, il\n",
    "vaut mieux toujours utiliser close .</p>\n",
    "<p>Finalement, voici notre premier code.</p>\n",
    "</span>\n",
    "\n",
    "```python\n",
    "import matplotlib.pyplot as plt\n",
    "plt.show()\n",
    "plt.close()\n",
    "\n",
    "```\n",
    "\n",
    "<span style=\"font-family:'Times new Roman';\">\n",
    "   <em style=\"font-weight: bold;\">Mais, il fait rien le code. Qu’est-ce qui se passe?</em>\n",
    "   <p>En fait, la commande show sert bien à ouvrir la fenêtre, à «show» donc montrer ce que l’on\n",
    "a fait précédemment. Mais nous n’avons rien fait. Nous devons alors introduire une troisième\n",
    "commande, la commande plot . Finalement, voici notre vrai premier code.</p>\n",
    "</span>\n",
    "\n",
    "```python\n",
    "import matplotlib.pyplot as plt\n",
    "plt.plot()\n",
    "plt.show()\n",
    "plt.close()\n",
    "\n",
    "```\n"
   ]
  },
  {
   "cell_type": "code",
   "execution_count": 2,
   "id": "fb7869d4",
   "metadata": {},
   "outputs": [
    {
     "data": {
      "image/png": "[encoded data removed]",
      "text/plain": [
       "<Figure size 432x288 with 1 Axes>"
      ]
     },
     "metadata": {
      "needs_background": "light"
     },
     "output_type": "display_data"
    }
   ],
   "source": [
    "import matplotlib.pyplot as plt\n",
    "plt.plot()\n",
    "plt.show()\n",
    "plt.close()"
   ]
  },
  {
   "cell_type": "markdown",
   "id": "05ab020f",
   "metadata": {},
   "source": [
    "\n",
    "<span style=\"font-family:'Times new Roman';\">\n",
    "   <p>Voilà, notre fenêtre s’ouvre bien devant nos yeux émerveillés. Nous pouvons regarder les options\n",
    "offertes par la fenêtre dans le menu horizontal (zoom, déplacement, enregistrement en tant\n",
    "qu’image…).</p>\n",
    "    <p>\n",
    "   <em style=\"font-weight: bold;\">* La fonction show est bloquante. Tant que la fenêtre n’a pas été fermée, le reste du code\n",
    "ne s’exécute pas.</em>\n",
    "     </p>\n",
    "</span>\n"
   ]
  },
  {
   "cell_type": "markdown",
   "id": "4a9b38fe",
   "metadata": {},
   "source": [
    "## <left> <b> <span style=\"color:#cd7fe2;font-style:italic;font-family:'roboto';\"> 2.2- Tracer des lignes brisées<a class=\"sec\" id=\"section_2_2\"></a> </span> </b></left>\n"
   ]
  },
  {
   "cell_type": "markdown",
   "id": "90a5853f",
   "metadata": {},
   "source": [
    "<span style=\"font-family:'Times new Roman';\">\n",
    "   <p>Pour tracer des lignes, nous devons utiliser la commande plot du module pyplot. Elle peut\n",
    "ne prendre aucun argument comme nous venons de le voir, mais c’est bien avec des arguments\n",
    "qu’elle est utile. En effet, si nous lui passons une liste [a, b, c] en argument, elle reliera le\n",
    "points A(0, a) au point B(1, b) et ce point B au point C(2, c). En fait, nous fournissons les\n",
    "ordonnées dans une liste, et les abscisses, elles, sont automatiquement générées et vont de 0 à\n",
    "len(liste) - 1 . Ainsi, le code suivant…</p>\n",
    "</span>\n",
    "\n",
    "```python\n",
    "import matplotlib.pyplot as plt\n",
    "plt.plot([0, 1, 2])\n",
    "plt.show()\n",
    "plt.close()\n",
    "\n",
    "```\n",
    "<span style=\"font-family:'Times new Roman';\">\n",
    "   <p>… Permet d’obtenir la droite passant par les points A(0, 0), B(1, 1) et C(2, 2).</p>\n",
    "</span>"
   ]
  },
  {
   "cell_type": "code",
   "execution_count": 3,
   "id": "c7af1225",
   "metadata": {},
   "outputs": [
    {
     "data": {
      "image/png": "[encoded data removed]",
      "text/plain": [
       "<Figure size 432x288 with 1 Axes>"
      ]
     },
     "metadata": {
      "needs_background": "light"
     },
     "output_type": "display_data"
    }
   ],
   "source": [
    "import matplotlib.pyplot as plt\n",
    "plt.plot([0, 1, 2])\n",
    "plt.show()\n",
    "plt.close()"
   ]
  },
  {
   "cell_type": "code",
   "execution_count": 7,
   "id": "e6758942",
   "metadata": {},
   "outputs": [
    {
     "data": {
      "image/png": "[encoded data removed]",
      "text/plain": [
       "<Figure size 432x288 with 1 Axes>"
      ]
     },
     "metadata": {
      "needs_background": "light"
     },
     "output_type": "display_data"
    }
   ],
   "source": [
    "import matplotlib.pyplot as plt\n",
    "plt.plot([1, 0, 2])\n",
    "plt.show()\n",
    "plt.close()"
   ]
  },
  {
   "cell_type": "markdown",
   "id": "99c6e517",
   "metadata": {},
   "source": [
    "<span style=\"font-family:'Times new Roman';\">\n",
    "   <p>Notons l’existence de la fonction savefig qui permet de sauvegarder le graphique dans un fichier.\n",
    "Elle prend tout simplement en paramètre le chemin (relatif ou absolu) où il faut enregistrer\n",
    "le fichier. Plusieurs formats sont supportés, notamment le PDF et le PNG . Pour enregistrer le\n",
    "graphique, nous pouvons alors écrire ce code.</p>\n",
    "</span>\n",
    "\n",
    "```python\n",
    "import matplotlib.pyplot as plt\n",
    "plt.plot([1, 0, 2])\n",
    "plt.savefig(\"graphique.png\")\n",
    "\n",
    "```"
   ]
  },
  {
   "cell_type": "code",
   "execution_count": 6,
   "id": "00b61a65",
   "metadata": {},
   "outputs": [
    {
     "data": {
      "image/png": "[encoded data removed]",
      "text/plain": [
       "<Figure size 432x288 with 1 Axes>"
      ]
     },
     "metadata": {
      "needs_background": "light"
     },
     "output_type": "display_data"
    }
   ],
   "source": [
    "import matplotlib.pyplot as plt\n",
    "plt.plot([1, 0, 2])\n",
    "plt.savefig(\"/home/godwin/Bureau/Python/matplotlib/graphique.png\")\n"
   ]
  },
  {
   "cell_type": "markdown",
   "id": "6ce65466",
   "metadata": {},
   "source": [
    "## <left> <b> <span style=\"color:#cd7fe2;font-style:italic;font-family:'roboto';\"> 2.3- Tracer une figure<a class=\"sec\" id=\"section_2_3\"></a> </span> </b></left>\n"
   ]
  },
  {
   "cell_type": "markdown",
   "id": "9e955daf",
   "metadata": {},
   "source": [
    "<span style=\"font-family:'Times new Roman';\">\n",
    "   <p>Cependant, nous pouvons aussi passer deux listes en arguments à plot . La première liste\n",
    "correspondra à la liste des abscisses des points que nous voulons relier et la seconde à la liste de\n",
    "leurs ordonnées. Ainsi, notre code précédent pourrait être le suivant.</p>\n",
    "</span>\n",
    "\n",
    "```python\n",
    "import matplotlib.pyplot as plt\n",
    "x = [0, 1, 2]\n",
    "y = [1, 0, 2]\n",
    "plt.plot(x, y)\n",
    "plt.show()\n",
    "plt.close()\n",
    "\n",
    "```\n",
    "<span style=\"font-family:'Times new Roman';\">\n",
    "   <p>Ceci nous permet alors de revenir au point de départ et de relier le dernier point au premier.\n",
    "Grâce à cela, nous pouvons dessiner des figures géométriques très facilement.</p>\n",
    "    <p>Essayons donc de dessiner le triangle ABC avec A(0, 0), B(1, 1) et C(-1, 1).</p>\n",
    "</span>"
   ]
  },
  {
   "cell_type": "code",
   "execution_count": 62,
   "id": "d9028aff",
   "metadata": {},
   "outputs": [
    {
     "data": {
      "image/png": "[encoded data removed]",
      "text/plain": [
       "<Figure size 432x288 with 1 Axes>"
      ]
     },
     "metadata": {
      "needs_background": "light"
     },
     "output_type": "display_data"
    }
   ],
   "source": [
    "import matplotlib.pyplot as plt\n",
    "x = [0, 1, -1]\n",
    "y = [0, 1, 1]\n",
    "plt.plot(x, y)\n",
    "plt.show()\n",
    "plt.close()"
   ]
  },
  {
   "cell_type": "markdown",
   "id": "ed501cb2",
   "metadata": {},
   "source": [
    "<span style=\"font-family:'Times new Roman';\">\n",
    "   <p>Pas très fermé comme triangle, hein! En fait, c’est tout bête. Chaque point est relié au point le\n",
    "précédent; donc, avec ce que nous avons écrit, nous ne relions pas le dernier point au premier. Il\n",
    "nous faut donc faire comme ça.</p>\n",
    "</span>\n",
    "\n",
    "```python\n",
    "import matplotlib.pyplot as plt\n",
    "x = [0, 1, -1, 0]\n",
    "y = [0, 1, 1, 0]\n",
    "plt.plot(x, y)\n",
    "plt.show()\n",
    "plt.close()\n",
    "\n",
    "```"
   ]
  },
  {
   "cell_type": "code",
   "execution_count": 4,
   "id": "dabda6c4",
   "metadata": {},
   "outputs": [
    {
     "data": {
      "image/png": "[encoded data removed]",
      "text/plain": [
       "<Figure size 432x288 with 1 Axes>"
      ]
     },
     "metadata": {
      "needs_background": "light"
     },
     "output_type": "display_data"
    }
   ],
   "source": [
    "import matplotlib.pyplot as plt\n",
    "x = [0, 1, -1, 0]\n",
    "y = [0, 1, 1, 0]\n",
    "plt.plot(x, y)\n",
    "plt.show()\n",
    "plt.close()\n",
    "\n",
    "#Et là, nous voyons apparaître notre triangle."
   ]
  },
  {
   "cell_type": "markdown",
   "id": "3e572e58",
   "metadata": {},
   "source": [
    "<span style=\"font-family:'Times new Roman';\">\n",
    "   <p>Nous pouvons également passer en paramètre à plot plusieurs listes pour avoir plusieurs tracés.\n",
    "Par exemple avec ce code…</p>\n",
    "</span>\n",
    "\n",
    "```python\n",
    "import matplotlib.pyplot as plt\n",
    "x = [0, 1, 0]\n",
    "y = [0, 1, 2]\n",
    "x1 = [0, 2, 0]\n",
    "y1 = [2, 1, 0]\n",
    "x2 = [0, 1, 2]\n",
    "y2 = [0, 1, 2]\n",
    "plt.plot(x, y, x1, y1, x2, y2)\n",
    "plt.show()\n",
    "plt.close()\n",
    "\n",
    "```\n",
    "\n",
    "<span style=\"font-family:'Times new Roman';\">\n",
    "   <p>… Nous obtenons trois figures en une. Nous aurions également pu obtenir ce résultat en utilisant\n",
    "trois fois la commande plot avant d’utiliser la commande show .</p>\n",
    "</span>\n",
    "\n",
    "```python\n",
    "import matplotlib.pyplot as plt\n",
    "x = [0, 1, 0]\n",
    "y = [0, 1, 2]\n",
    "x1 = [0, 2, 0]\n",
    "y1 = [2, 1, 0]\n",
    "x2 = [0, 1, 2]\n",
    "y2 = [0, 1, 2]\n",
    "plt.plot(x, y)\n",
    "plt.plot(x1, y1)\n",
    "plt.plot(x2, y2)\n",
    "plt.show()\n",
    "plt.close()\n",
    "\n",
    "```"
   ]
  },
  {
   "cell_type": "code",
   "execution_count": 1,
   "id": "c3e693d9",
   "metadata": {},
   "outputs": [
    {
     "data": {
      "image/png": "[encoded data removed]",
      "text/plain": [
       "<Figure size 432x288 with 1 Axes>"
      ]
     },
     "metadata": {
      "needs_background": "light"
     },
     "output_type": "display_data"
    }
   ],
   "source": [
    "import matplotlib.pyplot as plt\n",
    "x = [0, 1, 0]\n",
    "y = [0, 1, 2]\n",
    "x1 = [0, 2, 0]\n",
    "y1 = [2, 1, 0]\n",
    "x2 = [0, 1, 2]\n",
    "y2 = [0, 1, 2]\n",
    "plt.plot(x, y, x1, y1, x2, y2)\n",
    "plt.show()\n",
    "plt.close()"
   ]
  },
  {
   "cell_type": "markdown",
   "id": "3d4c3e92",
   "metadata": {},
   "source": [
    "## <left> <b> <span style=\"color:#cd7fe2;font-style:italic;font-family:'roboto';\"> 2.4- Paramètres supplémentaires<a class=\"sec\" id=\"section_2_3\"></a> </span> </b></left>\n"
   ]
  },
  {
   "cell_type": "markdown",
   "id": "2e9b4daa",
   "metadata": {},
   "source": [
    "<span style=\"font-family:'Times new Roman';\">\n",
    "   <p>C’est bien beau et tout ce qu’on a fait, mais nous avons parlé de personnalisation des graphiques.\n",
    "Il serait temps d’en parler. Et oui, c’est l’heure de voir quelques moyens de personnalisation.</p>\n",
    "   <p>Tout d’abord, pour rajouter un titre au graphique, il suffit d’utiliser la commande title en lui\n",
    "envoyant comme paramètre une chaîne de caractères.</p>\n",
    "   <p>Ensuite, la commande plot possède plusieurs autres paramètres. Voyons quelques-uns d’entre\n",
    "eux rapidement.</p>\n",
    "   <p>Dans le même genre que le titre, le paramètre label permet de légender un graphique, c’est-\n",
    "à-dire d’attribuer un nom à une courbe. Il suffit alors de choisir d’afficher la légende avec la\n",
    "commande legend qui est à placer juste avant show . Essayons-la et observons le rendu. La\n",
    "légende est affichée en haut à droite.</p>\n",
    "   <p style=\"font-style:italic; font-weight:bold\">Notons qu’il est possible d’utiliser LaTeX pour écrire des mathématiques dans nos\n",
    "textes avec matplotlib.</p>\n",
    "</span>"
   ]
  },
  {
   "cell_type": "markdown",
   "id": "4db462f1",
   "metadata": {},
   "source": [
    "### <left> <b> <span style=\"color:darkcyan;font-style:italic;font-family:'roboto';\"> 2.4.1- Color<a class=\"sec\" id=\"section_2_4_1\"></a> </span> </b></left>"
   ]
  },
  {
   "cell_type": "markdown",
   "id": "5c5090fc",
   "metadata": {},
   "source": [
    "<span style=\"font-family:'Times new Roman';\">\n",
    "   <p>Le paramètre color permet de changer la couleur du tracé. Cette couleur peut être donnée\n",
    "sous plusieurs formes.</p>\n",
    " <ul>\n",
    "    <li> Sous forme de chaîne de caractères représentant les noms (ou abréviations) pour les\n",
    "couleurs primaires, le noir et le blanc: b ou blue , g ou green , r ou red , c ou cyan , m\n",
    "ou magenta , y ou yellow , k ou black , w ou white . C’est quand même assez explicite,\n",
    "il suffit d’écrire les noms en anglais.\n",
    "    <li> Sous la forme d’un tuple correspondant aux valeurs RGB de la couleur. Cependant, ce\n",
    "tuple doit contenir des valeurs entre 0 et 1 (il suffit alors de diviser les valeurs RGB par\n",
    "255.0 ). Ainsi, ce sera color = (255 / 255.0, 0, 0) pour obtenir du rouge. Notons\n",
    "que nous pouvons ajouter une valeur (toujours entre 0 et 1) à ce tuple pour représenter\n",
    "la transparence alpha.\n",
    "    <li> Sous la forme de chaîne de caractères représentant la couleur en notation hexadécimale.\n",
    "On aura donc color = '#00FF00' pour obtenir du vert.\n",
    "    <li> Et les adeptes des nuances de gris pourront donner en paramètre une chaîne de caractères\n",
    "correspondant à l’intensité en gris. Par exemple color = '0.8' permet d’obtenir un gris\n",
    "pâle.\n",
    " </ul>\n",
    "    <p>Nous avons donc plusieurs méthodes juste pour choisir une couleur.</p>\n",
    "        \n",
    "</span>"
   ]
  },
  {
   "cell_type": "markdown",
   "id": "04bbd531",
   "metadata": {},
   "source": [
    "### <left> <b> <span style=\"color:darkcyan;font-style:italic;font-family:'roboto';\"> 2.4.2- Le style de ligne<a class=\"sec\" id=\"section_2_4_2\"></a> </span> </b></left>"
   ]
  },
  {
   "cell_type": "markdown",
   "id": "3d725b7d",
   "metadata": {},
   "source": [
    "<span style=\"font-family:'Times new Roman';\">\n",
    "   <p>Nous pouvons également changer le style des lignes en passant à la commande plot une chaîne\n",
    "de caractères. Les caractères acceptés et leur signification sont disponibles sur la documentation\n",
    "de la commande plot . Tous ces styles ne relient pas les points entre eux, certains ne font\n",
    "qu’afficher le signe à l’endroit où se situe le point. Présentons quelques caractères:</p>\n",
    " <ul>\n",
    "    <li> - est le style par défaut, il correspond à une ligne pleine;\n",
    "    <li> -- correspond à une ligne en pointillés;\n",
    "    <li> : correspond à une ligne formée de points;\n",
    "    <li> -. correspond à une ligne formée d’une suite de points et de tirets.\n",
    " </ul>\n",
    "    <p>Ces caractères correspondent au paramètre linestyle . Nous pouvons aussi ajouter des marqueurs avec le paramètre marker qui rajoute alors un marqueur pour chaque point de votre\n",
    "graphique. Ce paramètre est aussi une chaîne de caractères. Voici quelques marqueurs: * , + ,\n",
    "o .</p>\n",
    "   <p style=\"font-style:italic; font-weight:bold\">Les chaînes de caractères représentant les marqueurs fonctionnent aussi avec le paramètre\n",
    "linestyle . Le contraire n’est pas vrai.</p>\n",
    "    <p>Nous pouvons également changer l’épaisseur du trait (ou des points) avec le paramètre lw\n",
    "(linewidth).</p>\n",
    "    </span>"
   ]
  },
  {
   "cell_type": "markdown",
   "id": "d41be1ac",
   "metadata": {},
   "source": [
    "### <left> <b> <span style=\"color:darkcyan;font-style:italic;font-family:'roboto';\"> 2.4.3- La grille<a class=\"sec\" id=\"section_2_4_3\"></a> </span> </b></left>"
   ]
  },
  {
   "cell_type": "markdown",
   "id": "b543c8b1",
   "metadata": {},
   "source": [
    "<span style=\"font-family:'Times new Roman';\">\n",
    "   <p>Nous pouvons ajouter une grille avec la fonction grid qui affiche un quadrillage en pointillés.\n",
    "Nous pouvons bien sûr changer le style de ce quadrillage.</p>\n",
    " <ul>\n",
    "    <li> Le paramètre axis nous permet de choisir quels axes doivent être quadrillés. Il peut\n",
    "prendre les valeurs both (les deux), x ou y .\n",
    "    <li> Le paramètre color nous permet de choisir la couleur de l’axe. Il fonctionne de la même\n",
    "manière que le paramètre color de la fonction plot .\n",
    "    <li> Le paramètre linewidth permet de choisir l’épaisseur des traits.\n",
    "    <li> Le paramètre linestyle permet de choisir le style de quadrillage. Il peut prendre comme\n",
    "valeur (tout comme plot ) - , -- , : , -. .\n",
    " </ul>\n",
    "    <p>On a maintenant de quoi faire plusieurs styles de grilles.</p>\n",
    "        \n",
    "</span>"
   ]
  },
  {
   "cell_type": "markdown",
   "id": "bbff1614",
   "metadata": {},
   "source": [
    "### <left> <b> <span style=\"color:darkcyan;font-style:italic;font-family:'roboto';\"> 2.4.4- Les axes<a class=\"sec\" id=\"section_2_4_4\"></a> </span> </b></left>"
   ]
  },
  {
   "cell_type": "markdown",
   "id": "6632214f",
   "metadata": {},
   "source": [
    "<span style=\"font-family:'Times new Roman';\">\n",
    "   <p>Nous pouvons effectuer plusieurs opérations sur les axes. Tout d’abord les légender:</p>\n",
    " <ul>\n",
    "    <li> <em>xlabel</em> permet de donner un nom à l’axe des abscisses;\n",
    "    <li> <em>ylabel</em> permet de donner un nom à l’axe des ordonnées.\n",
    "    \n",
    " </ul>\n",
    "    <p>Ces deux commandes prennent en paramètres le nom que l’on veut donner à l’axe.</p>\n",
    "   <p style=\"font-style:italic;\">On peut également «cadrer» les axes avec la commande axis qu’on utilise ainsi: plt.axis([xmin,\n",
    "xmax, ymin, ymax]).</p>\n",
    "    </span>"
   ]
  },
  {
   "cell_type": "markdown",
   "id": "c39d9f7b",
   "metadata": {},
   "source": [
    "### <left> <b> <span style=\"color:darkcyan;font-style:italic;font-family:'roboto';\"> 2.4.5- Une question d'échelle<a class=\"sec\" id=\"section_2_4_5\"></a> </span> </b></left>"
   ]
  },
  {
   "cell_type": "markdown",
   "id": "d449a005",
   "metadata": {},
   "source": [
    "<span style=\"font-family:'Times new Roman';\">\n",
    "   <p>Lorsque nous dessinerons des graphiques, nous aurons affaire à un problème particulier: la\n",
    "déformation.</p>\n",
    "    <p>Pour l’introduire, essayons de dessiner un carré centré autour de l’origine du repère. Traçons le\n",
    "carré ABCD avec A(1, 0), B(0, 1), C(-1, 0) et D(0, -1). Le code logique pour tracer ce carré est\n",
    "le suivant.</p>\n",
    "</span>\n",
    "\n",
    "```python\n",
    "import matplotlib.pyplot as plt\n",
    "x = [1, 0, -1, 0, 1]\n",
    "y = [0, 1, 0, -1, 0]\n",
    "plt.plot(x, y)\n",
    "plt.show()\n",
    "plt.close()\n",
    "\n",
    "```\n",
    "\n",
    "<span style=\"font-family:'Times new Roman';\">\n",
    "   <p>Pourtant, en exécutant ce code, on se rend compte que… Notre carré n’est pas carré.</p>\n",
    "</span>\n"
   ]
  },
  {
   "cell_type": "code",
   "execution_count": 15,
   "id": "41a09ecb",
   "metadata": {},
   "outputs": [
    {
     "data": {
      "image/png": "[encoded data removed]",
      "text/plain": [
       "<Figure size 432x288 with 1 Axes>"
      ]
     },
     "metadata": {
      "needs_background": "light"
     },
     "output_type": "display_data"
    }
   ],
   "source": [
    "import matplotlib.pyplot as plt\n",
    "x = [1, 0, -1, 0, 1]\n",
    "y = [0, 1, 0, -1, 0]\n",
    "plt.plot(x, y)\n",
    "plt.show()\n",
    "plt.close()"
   ]
  },
  {
   "cell_type": "markdown",
   "id": "293e04f0",
   "metadata": {},
   "source": [
    "<span style=\"font-family:'Times new Roman';\">\n",
    "   <p>Cela est dû au fait que le repère choisi n’est pas orthonormal 1 . Pour rendre le repère orthonormal,\n",
    "nous pouvons utiliser la fonction axis en lui passant comme paramètre la chaîne de caractère\n",
    "'equal' . Finalement, voici le code obtenu.</p>\n",
    "   \n",
    "</span>\n",
    "\n",
    "```python\n",
    "import matplotlib.pyplot as plt\n",
    "x = [1, 0, -1, 0, 1]\n",
    "y = [0, 1, 0, -1, 0]\n",
    "plt.plot(x, y)\n",
    "plt.axis('equal')\n",
    "plt.show()\n",
    "plt.close()\n",
    "\n",
    "```\n",
    "\n",
    "<span style=\"font-family:'Times new Roman';\">\n",
    "   <p>Et on obtient notre carré.</p>\n",
    "</span>\n"
   ]
  },
  {
   "cell_type": "code",
   "execution_count": 10,
   "id": "36060a3e",
   "metadata": {},
   "outputs": [
    {
     "data": {
      "image/png": "[encoded data removed]",
      "text/plain": [
       "<Figure size 432x288 with 1 Axes>"
      ]
     },
     "metadata": {
      "needs_background": "light"
     },
     "output_type": "display_data"
    }
   ],
   "source": [
    "import matplotlib.pyplot as plt\n",
    "x = [1, 0, -1, 0, 1]\n",
    "y = [0, 1, 0, -1, 0]\n",
    "plt.plot(x, y)\n",
    "plt.axis('equal')\n",
    "plt.show()\n",
    "plt.close()"
   ]
  },
  {
   "cell_type": "markdown",
   "id": "b2be6e79",
   "metadata": {},
   "source": [
    "<span style=\"font-family:'Times new Roman';\">\n",
    "   <p>Cela est dû au fait que le repère choisi n’est pas orthonormal 1 . Pour rendre le repère orthonormal,\n",
    "nous pouvons utiliser la fonction axis en lui passant comme paramètre la chaîne de caractère\n",
    "'equal' . Finalement, voici le code obtenu.</p>\n",
    "   \n",
    "</span>\n",
    "\n",
    "```python\n",
    "import matplotlib.pyplot as plt\n",
    "x = [0.25, 0.25, 1.25, 0.5, 1, 0.25, 0.6, 0, -0.6, -0.25, -1, -0.5, -1.25, -0.25, -0.25, 0.25]\n",
    "y = [0, 0.5, 0.5, 1, 1, 1.5, 1.5, 2, 1.5 , 1.5, 1, 1, 0.5, 0.5, 0,0]\n",
    "plt.plot(x, y, '-.', color = \"green\", lw = 2)\n",
    "plt.title(\"Mon beau sapin\")\n",
    "plt.axis('equal')\n",
    "plt.xlabel(\"C'est Noel\")\n",
    "plt.ylabel(\"Vive le vent\")\n",
    "plt.show()\n",
    "plt.close()\n",
    "\n",
    "```"
   ]
  },
  {
   "cell_type": "code",
   "execution_count": 18,
   "id": "60bfce55",
   "metadata": {
    "scrolled": true
   },
   "outputs": [
    {
     "data": {
      "image/png": "[encoded data removed]",
      "text/plain": [
       "<Figure size 432x288 with 1 Axes>"
      ]
     },
     "metadata": {
      "needs_background": "light"
     },
     "output_type": "display_data"
    }
   ],
   "source": [
    "import matplotlib.pyplot as plt\n",
    "x = [0.25, 0.25, 1.25, 0.5, 1, 0.25, 0.6, 0, -0.6, -0.25, -1, -0.5, -1.25, -0.25, -0.25, 0.25]\n",
    "y = [0, 0.5, 0.5, 1, 1, 1.5, 1.5, 2, 1.5 , 1.5, 1, 1, 0.5, 0.5, 0,0]\n",
    "plt.plot(x, y, '-.', color = \"green\", lw = 2, label=\"Arbre de Noêl\")\n",
    "plt.title(\"Mon beau sapin\")\n",
    "plt.axis('equal')\n",
    "plt.xlabel(\"C'est Noel\")\n",
    "plt.ylabel(\"Vive le vent\")\n",
    "plt.legend()\n",
    "plt.show()\n",
    "plt.close()"
   ]
  },
  {
   "cell_type": "markdown",
   "id": "4f2d9bd2",
   "metadata": {},
   "source": [
    "# <left> <b> <span style=\"color:chocolate;font-style:italic;font-family:'Bookman';\">3- Tracer des fonctions<a class=\"ch\" id=\"chapter3\" ></a> </span> </b></left>"
   ]
  },
  {
   "cell_type": "markdown",
   "id": "2024eecb",
   "metadata": {},
   "source": [
    "<span style=\"font-family:'Times new Roman';\">\n",
    "   <p>Maintenant que nous avons vu comment utiliser le module pyplot , nous allons l’utiliser pour\n",
    "tracer des fonctions sur un intervalle donné.</p>\n",
    "   \n",
    "</span>"
   ]
  },
  {
   "cell_type": "markdown",
   "id": "6e3962cd",
   "metadata": {},
   "source": [
    "## <left> <b> <span style=\"color:#cd7fe2;font-style:italic;font-family:'roboto';\"> 3.1- La méthode secrète<a class=\"sec\" id=\"section_3_1\"></a> </span> </b></left>\n"
   ]
  },
  {
   "cell_type": "markdown",
   "id": "d276d2e8",
   "metadata": {},
   "source": [
    "<span style=\"font-family:'Times new Roman';\">\n",
    "   <p>Vous vous demandez sûrement comment nous allons faire pour tracer des fonctions. L’astuce est\n",
    "très simple. Nous allons relier des points dont nous savons qu’ils appartiennent à la courbe. Par\n",
    "exemple, pour tracer la fonction cosinus sur l’intervalle [0, 2], nous allons relier les point A(0,\n",
    "cos(0)) et B(2, cos(2)).</p>\n",
    "   <p style=\"font-style:italic;\">Mais c’est nul ta méthode. On a essayé et on obtient juste une droite. Comment tu fais,\n",
    "toi, pour avoir une courbe?</p>\n",
    "   <p>Oui, nous obtenons juste une droite, et c’est bien normal, nous avons juste relié deux points.\n",
    "Pour obtenir la courbe (en tout cas l’approcher), nous allons relier des points très proche qui\n",
    "appartiennent à la courbe. Par exemple, nous pouvons couper l’intervalle en 100 et donc relier\n",
    "101 points plutôt que deux points. On appelle cela, subdiviser l’intervalle.</p>\n",
    "   <p>Notre subdivision sera à pas constant (le pas δ est l’espace entre deux points de la subdivision).\n",
    "Le pas est donc égal à la longueur de l’intervalle divisé par le nombre n de points de la\n",
    "subdivision.</p>\n",
    "   <p style=\"font-style:italic;\">$$ \\delta = \\frac{x{max} - x{min}}{n}. $$</p>\n",
    "   <p>Ainsi pour dessiner la fonction cosinus:</p>\n",
    " <ul>\n",
    "    <li> on coupe l’intervalle en n tranches (on choisit par exemple n = 100);\n",
    "    <li> le pas est donc $ \\delta = \\frac{2\\pi }{100}. $\n",
    "    <li> on relie les points de la subdivision.\n",
    "    \n",
    " </ul>\n",
    "   <p style=\"font-style:italic;\">Nous pouvons remarquer qu’en divisant notre intervalle en 100 tranches, nous obtenons\n",
    "une subdivision de 101 points (les deux bornes de l’intervalle sont dans la subdivision).</p>\n",
    "   <p>Voici le code qui s’ensuit.</p>\n",
    "    </span>\n",
    "\n",
    "```python\n",
    "import matplotlib.pyplot as plt\n",
    "from math import cos, pi\n",
    "x = []\n",
    "y = [] # On a créé deux listes vides pour contenir les abscisses et\n",
    "les ordonnées\n",
    "pas = 2 * pi / 100\n",
    "abscisse = 0 # L'abscisse de départ est 0\n",
    "for k in range(0, 101): # On veut les points de 0 à 100\n",
    "x.append(abscisse)\n",
    "y.append(cos(abscisse)) # On rajoute l'abscisse et son image\n",
    "par la fonction cos aux listes\n",
    "abscisse += pas # on augmente abscisse de pas pour passer au\n",
    "point suivant\n",
    "plt.plot(x, y)\n",
    "plt.show()\n",
    "plt.close()\n",
    "\n",
    "``` \n",
    " "
   ]
  },
  {
   "cell_type": "code",
   "execution_count": 11,
   "id": "22f44f93",
   "metadata": {},
   "outputs": [
    {
     "data": {
      "image/png": "[encoded data removed]",
      "text/plain": [
       "<Figure size 432x288 with 1 Axes>"
      ]
     },
     "metadata": {
      "needs_background": "light"
     },
     "output_type": "display_data"
    }
   ],
   "source": [
    "import matplotlib.pyplot as plt\n",
    "from math import cos, pi\n",
    "x = []\n",
    "y = [] # On a créé deux listes vides pour contenir les abscisses etles ordonnées\n",
    "pas = 2 * pi / 100\n",
    "abscisse = 0 # L'abscisse de départ est 0\n",
    "for k in range(0, 101): # On veut les points de 0 à 100\n",
    "    x.append(abscisse)\n",
    "    y.append(cos(abscisse)) # On rajoute l'abscisse et son imagepar la fonction cos aux listes\n",
    "    abscisse += pas # on augmente abscisse de pas pour passer aupoint suivant\n",
    "plt.plot(x, y, marker='+')\n",
    "plt.show()\n",
    "plt.close()\n",
    "\n",
    "#Là, nous obtenons une belle sinusoïdale."
   ]
  },
  {
   "cell_type": "markdown",
   "id": "66da76df",
   "metadata": {},
   "source": [
    "## <left> <b> <span style=\"color:#cd7fe2;font-style:italic;font-family:'roboto';\"> 3.2- Les fonctions discontinues ou à valeurs interdites<a class=\"sec\" id=\"section_3_2\"></a> </span> </b></left>\n"
   ]
  },
  {
   "cell_type": "markdown",
   "id": "a4fd856e",
   "metadata": {},
   "source": [
    "<span style=\"font-family:'Times new Roman';\">\n",
    "   <p>Cependant, la méthode précédente peut présenter quelques problèmes dans des cas particuliers.\n",
    "Pour bien le voir, essayons de dessiner la fonction inverse $(x → \\frac{1}{x})$ sur l’intervalle [-1, 1].</p>\n",
    "   \n",
    "</span>\n",
    "\n",
    "```python\n",
    "import matplotlib.pyplot as plt\n",
    "a = -1\n",
    "b = 1\n",
    "x = []\n",
    "y = []\n",
    "pas = (b - a) / 200\n",
    "abscisse = a\n",
    "for k in range(0, 201):\n",
    "    x.append(abscisse)\n",
    "    y.append(1 / abscisse)\n",
    "    abscisse += pas\n",
    "plt.axis([-1, 1, -10, 10])\n",
    "plt.plot(x, y)\n",
    "plt.show()\n",
    "plt.close()\n",
    "\n",
    "```\n",
    "\n",
    "<span style=\"font-family:'Times new Roman';\">\n",
    "   <p>On obtient ce graphe.</p>\n",
    "</span>\n"
   ]
  },
  {
   "cell_type": "code",
   "execution_count": 20,
   "id": "acb412b8",
   "metadata": {},
   "outputs": [
    {
     "data": {
      "image/png": "[encoded data removed]",
      "text/plain": [
       "<Figure size 432x288 with 1 Axes>"
      ]
     },
     "metadata": {
      "needs_background": "light"
     },
     "output_type": "display_data"
    }
   ],
   "source": [
    "import matplotlib.pyplot as plt\n",
    "a = -1\n",
    "b = 1\n",
    "x = []\n",
    "y = []\n",
    "pas = (b - a) / 200\n",
    "abscisse = a\n",
    "for k in range(0, 201):\n",
    "    x.append(abscisse)\n",
    "    y.append(1 / abscisse)\n",
    "    abscisse += pas\n",
    "plt.axis([-1, 1, -10, 10])\n",
    "plt.plot(x, y)\n",
    "plt.show()\n",
    "plt.close()\n",
    "\n",
    "#D'ou vient cette droite verticale au milieu de l'écran?"
   ]
  },
  {
   "cell_type": "markdown",
   "id": "f418d59c",
   "metadata": {},
   "source": [
    "<span style=\"font-family:'Times new Roman';\">\n",
    "   <p>La fonction inverse n’est pas définie en 0. Normalement, nous aurions dû obtenir une erreur lorsque\n",
    "nous demandions $\\frac{1}{abscisse}$ et qu’abscisse valait 0. Cependant, les erreurs d’approximation\n",
    "de python font que l’on ne passe pas par 0 mais par un point proche.</p>\n",
    "   <p>Néanmoins, il ne reste pas moins vrai que la fonction inverse est fortement divergente au\n",
    "voisinage de 0. Elle tend vers $-\\infity$ lorsque $x$ tend vers 0 par valeur négative mais tend au\n",
    "contraire vers $+\\infity$ lorsque $x$ tend vers 0 en étant positif.</p>\n",
    "   <p>La droite que nous observons est donc une conséquence de cela. On relie un point qui a une\n",
    "ordonnée très négative (le premier point avant 0) à un autre point qui a une ordonnée très\n",
    "positive (le premier point après 0).</p>\n",
    "   <p>Pour éviter cela, on est obligé de dessiner la fonction en deux fois. Une fois avant 0 et une fois\n",
    "après. Finalement, notre code est le suivant.</p>\n",
    "   \n",
    "</span>\n",
    "\n",
    "```python\n",
    "import matplotlib.pyplot as plt\n",
    "a = 1 / 1000 # Pour éviter 0\n",
    "b = 1\n",
    "x = []\n",
    "y = []\n",
    "x1 = []\n",
    "y1 = []\n",
    "pas = (b - a) / 200\n",
    "abscisse = a\n",
    "for k in range(0, 201): # On fait une seule boucle\n",
    "    x.append(abscisse) # abscisse représente les abscisses à droite de 0\n",
    "    y.append(1 / abscisse)\n",
    "    x1.append(-abscisse) # -abscisse représente les abscisses à gauche de 0\n",
    "    y1.append(-1 / abscisse)\n",
    "    abscisse += pas\n",
    "plt.axis([-1, 1, -10, 10])\n",
    "plt.plot(x, y, x1, y1)\n",
    "plt.show()\n",
    "plt.close()\n",
    "```\n",
    "\n",
    "<span style=\"font-family:'Times new Roman';\">\n",
    "   <p>Et il nous donne bien cette courbe.</p>\n",
    "</span>\n"
   ]
  },
  {
   "cell_type": "code",
   "execution_count": 13,
   "id": "96fa37c9",
   "metadata": {
    "scrolled": true
   },
   "outputs": [
    {
     "data": {
      "image/png": "[encoded data removed]",
      "text/plain": [
       "<Figure size 432x288 with 1 Axes>"
      ]
     },
     "metadata": {
      "needs_background": "light"
     },
     "output_type": "display_data"
    }
   ],
   "source": [
    "import matplotlib.pyplot as plt\n",
    "a = 1 / 1000 # Pour éviter 0\n",
    "b = 1\n",
    "x = []\n",
    "y = []\n",
    "x1 = []\n",
    "y1 = []\n",
    "pas = (b - a) / 200\n",
    "abscisse = a\n",
    "for k in range(0, 201): # On fait une seule boucle\n",
    "    x.append(abscisse) # abscisse représente les abscisses à droite de 0\n",
    "    y.append(1 / abscisse)\n",
    "    x1.append(-abscisse) # -abscisse représente les abscisses à gauche de 0\n",
    "    y1.append(-1 / abscisse)\n",
    "    abscisse += pas\n",
    "plt.axis([-1, 1, -10, 10])\n",
    "plt.plot(x, y, x1, y1)\n",
    "plt.show()\n",
    "plt.close()"
   ]
  },
  {
   "cell_type": "markdown",
   "id": "7e504c19",
   "metadata": {},
   "source": [
    "# <left> <b> <span style=\"color:chocolate;font-style:italic;font-family:'Bookman';\">4- Notre fonction<a class=\"ch\" id=\"chapter4\" ></a> </span> </b></left>"
   ]
  },
  {
   "cell_type": "markdown",
   "id": "1b34aacc",
   "metadata": {},
   "source": [
    "<span style=\"font-family:'Times new Roman';\">\n",
    "   <p>Nous avons maintenant tout pour faire notre fonction. Nous allons l’appeler <em style=\"font-weight:bold;\">zplot</em> . Celle-ci ne\n",
    "devra pas ouvrir une fenêtre (donc pas de <em style=\"font-weight:bold;\">show</em> ) mais juste faire un plot . Ceci permettra de\n",
    "l’appeler deux fois par exemple pour dessiner la fonction inverse.</p>\n",
    "   \n",
    "</span>\n"
   ]
  },
  {
   "cell_type": "markdown",
   "id": "410371e1",
   "metadata": {},
   "source": [
    "## <left> <b> <span style=\"color:#cd7fe2;font-style:italic;font-family:'roboto';\"> 4.1- La fonction zplot minimale<a class=\"sec\" id=\"section_4_1\"></a> </span> </b></left>\n"
   ]
  },
  {
   "cell_type": "markdown",
   "id": "dcb4a51e",
   "metadata": {},
   "source": [
    "<span style=\"font-family:'Times new Roman';\">\n",
    "   <p>Notre fonction zplot doit prendre comme paramètre:</p>\n",
    "    <ul>\n",
    "    <li> l’intervalle [a, b] sur lequel dessiner la fonction;\n",
    "    <li> la fonction à dessiner;\n",
    "    <li> il peut être intéressant de pouvoir choisir le pas.\n",
    "    \n",
    " </ul>\n",
    "    \n",
    "   <p>Ainsi, notre prototype estle suivant.</p>\n",
    "   \n",
    "</span>\n",
    "\n",
    "```python\n",
    "def zplot(f, a, b, pas)\n",
    "\n",
    "```\n",
    "\n",
    "<span style=\"font-family:'Times new Roman';\">\n",
    "   <p>Maintenant, il ne reste plus qu’à faire ce que nous faisons depuis la partie précédente. Voici le\n",
    "code que nous finirons par obtenir.</p>\n",
    "</span>\n",
    "\n",
    "```python\n",
    "import matplotlib.pyplot as plt\n",
    "def zplot(f, a, b, n):\n",
    "    x = []\n",
    "    y = []\n",
    "    abscisse = a\n",
    "    pas = (b - a)/ n\n",
    "    for k in range(0, n + 1):\n",
    "        x.append(abscisse)\n",
    "        y.append(f(abscisse))\n",
    "        abscisse += pas\n",
    "plt.plot(x, y)\n",
    "\n",
    "```\n",
    "<span style=\"font-family:'Times new Roman';\">\n",
    "   <p>Voilà. Avec cette fonction, il faut juste faire ceci pour avoir la courbe de la fonction cosinus sur\n",
    "[0, 2]:</p>\n",
    "</span>\n",
    "\n",
    "```python\n",
    "from math import cos, pi\n",
    "zplot(cos, 0, 2 * pi, 100)\n",
    "plt.show()\n",
    "plt.close()\n",
    "\n",
    "```\n"
   ]
  },
  {
   "cell_type": "code",
   "execution_count": 14,
   "id": "44f4adbd",
   "metadata": {},
   "outputs": [
    {
     "data": {
      "image/png": "[encoded data removed]",
      "text/plain": [
       "<Figure size 432x288 with 1 Axes>"
      ]
     },
     "metadata": {
      "needs_background": "light"
     },
     "output_type": "display_data"
    }
   ],
   "source": [
    "import matplotlib.pyplot as plt\n",
    "def zplot(f, a, b, n):\n",
    "    x = []\n",
    "    y = []\n",
    "    abscisse = a\n",
    "    pas = (b - a)/ n\n",
    "    for k in range(0, n + 1):\n",
    "        x.append(abscisse)\n",
    "        y.append(f(abscisse))\n",
    "        abscisse += pas\n",
    "plt.plot(x, y)\n",
    "\n",
    "from math import cos, pi\n",
    "zplot(cos, 0, 2 * pi, 100)\n",
    "plt.show()\n",
    "plt.close()\n",
    "\n",
    "#Dans ce cas, c'est bien. Mais comment fait-on pour les fonctions qui ne sont pas définies?"
   ]
  },
  {
   "cell_type": "markdown",
   "id": "aa9b35fc",
   "metadata": {},
   "source": [
    "<span style=\"font-family:'Times new Roman';\">\n",
    "   <p>Dans ce cas, c'est bien. Mais comment fait-on pour les fonctions qui ne sont pas définies?</p>\n",
    "   <p>Là, nous avons deux possibilités:</p>\n",
    "    <ul>\n",
    "    <li> définir la fonction;\n",
    "    <li> utiliser une fonction <em style=\"font-weight:bold;\">lambda</em>.\n",
    " </ul>\n",
    "    \n",
    "   <p>Traçons la courbe de la fonction inverse sur l’intervalle [1, 10] des deux manières.</p>\n",
    "   <p>En définissant la fonction inverse, on obtient ce code.</p>\n",
    "   \n",
    "</span>\n",
    "\n",
    "\n",
    "```python\n",
    "def inverse(x):\n",
    "    return 1 / x\n",
    "\n",
    "zplot(inverse, 1, 10, 200)\n",
    "plt.show()\n",
    "plt.close()\n",
    "\n",
    "```\n",
    "<span style=\"font-family:'Times new Roman';\">\n",
    "   <p>Et avec la fonction lambda, on obtient ce code.</p>\n",
    "</span>\n",
    "\n",
    "```python\n",
    "zplot(lambda x : 1 / x, 1, 10, 200)\n",
    "plt.show()\n",
    "plt.close()\n",
    "\n",
    "```\n",
    "<span style=\"font-family:'Times new Roman';\">\n",
    "   <p>Nous le voyons, notre fonction zplot marche dans les deux situations.</p>\n",
    "</span>\n"
   ]
  },
  {
   "cell_type": "markdown",
   "id": "0ac58f1f",
   "metadata": {},
   "source": [
    "## <left> <b> <span style=\"color:#cd7fe2;font-style:italic;font-family:'roboto';\"> 4.2- Personnaliser zplot<a class=\"sec\" id=\"section_4_2\"></a> </span> </b></left>\n"
   ]
  },
  {
   "cell_type": "markdown",
   "id": "55689192",
   "metadata": {},
   "source": [
    "<span style=\"font-family:'Times new Roman';\">\n",
    "   <p>Maintenant que nous avons fini notre fonction zplot , nous pouvons la personnaliser en ajoutant\n",
    "des paramètres (par exemple style pour le style de lignes et lw pour l’épaisseur du trait).\n",
    "Ces paramètres doivent être facultatifs pour ne pas avoir à les préciser à chaque fois (nous\n",
    "mettrons en paramètre par défaut les paramètres par défaut de plot). On obtient donc la fonction\n",
    "suivante.</p>\n",
    "</span>\n",
    "\n",
    "\n",
    "```python\n",
    "def zplot(f, a, b, n, style = '-', lw = '1'):\n",
    "    x = []\n",
    "    y = []\n",
    "    abscisse = a\n",
    "    pas = (b - a)/ n\n",
    "    for k in range(0, n + 1):\n",
    "        x.append(abscisse)\n",
    "        y.append(f(abscisse))\n",
    "        abscisse += pas\n",
    "plt.plot(x, y, style, lw = lw)\n",
    "\n",
    "```\n",
    "<span style=\"font-family:'Times new Roman';\">\n",
    "   <p>Et grâce à ça, nous pouvons par exemple tracer la fonction cosinus avec des étoiles.</p>\n",
    "</span>\n",
    "\n",
    "```python\n",
    "from math import cos, pi\n",
    "zplot(cos, 0, 2 * pi, 100, style = '*')\n",
    "plt.show()\n",
    "plt.close()\n",
    "```\n",
    "<span style=\"font-family:'Times new Roman';\">\n",
    "   <p>Et voilà le résultat.</p>\n",
    "</span>\n"
   ]
  },
  {
   "cell_type": "code",
   "execution_count": 19,
   "id": "79d33030",
   "metadata": {},
   "outputs": [
    {
     "data": {
      "image/png": "[encoded data removed]",
      "text/plain": [
       "<Figure size 432x288 with 1 Axes>"
      ]
     },
     "metadata": {
      "needs_background": "light"
     },
     "output_type": "display_data"
    }
   ],
   "source": [
    "def zplot(f, a, b, n, style = '-', lw = '1'):\n",
    "    x = []\n",
    "    y = []\n",
    "    abscisse = a\n",
    "    pas = (b - a)/ n\n",
    "    for k in range(0, n + 1):\n",
    "        x.append(abscisse)\n",
    "        y.append(f(abscisse))\n",
    "        abscisse += pas\n",
    "    plt.plot(x, y, style, lw = lw)\n",
    "\n",
    "from math import cos, pi\n",
    "zplot(cos, 0, 2 * pi, 100, style = '+')\n",
    "plt.show()\n",
    "plt.close()"
   ]
  },
  {
   "cell_type": "markdown",
   "id": "b0988bda",
   "metadata": {},
   "source": [
    "<span style=\"font-family:'Times new Roman';\">\n",
    "   <p>Notre fonction zplot pourrait être encore plus personnalisable. Nous pourrions afficher une\n",
    "grille par défaut, demander le nom de la courbe pour l’afficher en label, demander le nom des\n",
    "axes… Tout ça avec des nouveaux paramètres optionnels.</p>\n",
    "</span>\n"
   ]
  }
 ],
 "metadata": {
  "kernelspec": {
   "display_name": "Python 3",
   "language": "python",
   "name": "python3"
  },
  "language_info": {
   "codemirror_mode": {
    "name": "ipython",
    "version": 3
   },
   "file_extension": ".py",
   "mimetype": "text/x-python",
   "name": "python",
   "nbconvert_exporter": "python",
   "pygments_lexer": "ipython3",
   "version": "3.8.5"
  }
 },
 "nbformat": 4,
 "nbformat_minor": 5
}
